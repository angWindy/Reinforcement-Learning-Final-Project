{
  "cells": [
    {
      "cell_type": "code",
      "execution_count": 1,
      "metadata": {
        "colab": {
          "base_uri": "https://localhost:8080/"
        },
        "id": "nVFr6wiU0RSV",
        "outputId": "dafb7a17-fe67-43c8-e088-29281f5afc82"
      },
      "outputs": [
        {
          "name": "stdout",
          "output_type": "stream",
          "text": [
            "Collecting magent2\n",
            "  Downloading magent2-0.3.3-cp310-cp310-manylinux_2_17_x86_64.manylinux2014_x86_64.whl.metadata (3.3 kB)\n",
            "Requirement already satisfied: numpy<2.0,>=1.21.0 in /usr/local/lib/python3.10/dist-packages (from magent2) (1.26.4)\n",
            "Requirement already satisfied: pygame>=2.1.0 in /usr/local/lib/python3.10/dist-packages (from magent2) (2.6.1)\n",
            "Collecting pettingzoo>=1.23.1 (from magent2)\n",
            "  Downloading pettingzoo-1.24.3-py3-none-any.whl.metadata (8.5 kB)\n",
            "Collecting gymnasium>=0.28.0 (from pettingzoo>=1.23.1->magent2)\n",
            "  Downloading gymnasium-1.0.0-py3-none-any.whl.metadata (9.5 kB)\n",
            "Requirement already satisfied: cloudpickle>=1.2.0 in /usr/local/lib/python3.10/dist-packages (from gymnasium>=0.28.0->pettingzoo>=1.23.1->magent2) (3.1.0)\n",
            "Requirement already satisfied: typing-extensions>=4.3.0 in /usr/local/lib/python3.10/dist-packages (from gymnasium>=0.28.0->pettingzoo>=1.23.1->magent2) (4.12.2)\n",
            "Collecting farama-notifications>=0.0.1 (from gymnasium>=0.28.0->pettingzoo>=1.23.1->magent2)\n",
            "  Downloading Farama_Notifications-0.0.4-py3-none-any.whl.metadata (558 bytes)\n",
            "Downloading magent2-0.3.3-cp310-cp310-manylinux_2_17_x86_64.manylinux2014_x86_64.whl (1.7 MB)\n",
            "\u001b[2K   \u001b[90m━━━━━━━━━━━━━━━━━━━━━━━━━━━━━━━━━━━━━━━━\u001b[0m \u001b[32m1.7/1.7 MB\u001b[0m \u001b[31m19.4 MB/s\u001b[0m eta \u001b[36m0:00:00\u001b[0m\n",
            "\u001b[?25hDownloading pettingzoo-1.24.3-py3-none-any.whl (847 kB)\n",
            "\u001b[2K   \u001b[90m━━━━━━━━━━━━━━━━━━━━━━━━━━━━━━━━━━━━━━━━\u001b[0m \u001b[32m847.8/847.8 kB\u001b[0m \u001b[31m35.4 MB/s\u001b[0m eta \u001b[36m0:00:00\u001b[0m\n",
            "\u001b[?25hDownloading gymnasium-1.0.0-py3-none-any.whl (958 kB)\n",
            "\u001b[2K   \u001b[90m━━━━━━━━━━━━━━━━━━━━━━━━━━━━━━━━━━━━━━━━\u001b[0m \u001b[32m958.1/958.1 kB\u001b[0m \u001b[31m34.2 MB/s\u001b[0m eta \u001b[36m0:00:00\u001b[0m\n",
            "\u001b[?25hDownloading Farama_Notifications-0.0.4-py3-none-any.whl (2.5 kB)\n",
            "Installing collected packages: farama-notifications, gymnasium, pettingzoo, magent2\n",
            "Successfully installed farama-notifications-0.0.4 gymnasium-1.0.0 magent2-0.3.3 pettingzoo-1.24.3\n"
          ]
        }
      ],
      "source": [
        "pip install magent2"
      ]
    },
    {
      "cell_type": "code",
      "execution_count": 2,
      "metadata": {
        "colab": {
          "base_uri": "https://localhost:8080/"
        },
        "id": "DEPHSbpj0oVT",
        "outputId": "a023417b-ffff-4505-b892-a4e65cbf0ec9"
      },
      "outputs": [
        {
          "name": "stdout",
          "output_type": "stream",
          "text": [
            "Collecting pettingzoo==1.22.0\n",
            "  Downloading PettingZoo-1.22.0-py3-none-any.whl.metadata (5.0 kB)\n",
            "Requirement already satisfied: numpy>=1.18.0 in /usr/local/lib/python3.10/dist-packages (from pettingzoo==1.22.0) (1.26.4)\n",
            "Requirement already satisfied: gymnasium>=0.26.0 in /usr/local/lib/python3.10/dist-packages (from pettingzoo==1.22.0) (1.0.0)\n",
            "Requirement already satisfied: cloudpickle>=1.2.0 in /usr/local/lib/python3.10/dist-packages (from gymnasium>=0.26.0->pettingzoo==1.22.0) (3.1.0)\n",
            "Requirement already satisfied: typing-extensions>=4.3.0 in /usr/local/lib/python3.10/dist-packages (from gymnasium>=0.26.0->pettingzoo==1.22.0) (4.12.2)\n",
            "Requirement already satisfied: farama-notifications>=0.0.1 in /usr/local/lib/python3.10/dist-packages (from gymnasium>=0.26.0->pettingzoo==1.22.0) (0.0.4)\n",
            "Downloading PettingZoo-1.22.0-py3-none-any.whl (823 kB)\n",
            "\u001b[2K   \u001b[90m━━━━━━━━━━━━━━━━━━━━━━━━━━━━━━━━━━━━━━━━\u001b[0m \u001b[32m823.4/823.4 kB\u001b[0m \u001b[31m10.0 MB/s\u001b[0m eta \u001b[36m0:00:00\u001b[0m\n",
            "\u001b[?25hInstalling collected packages: pettingzoo\n",
            "  Attempting uninstall: pettingzoo\n",
            "    Found existing installation: pettingzoo 1.24.3\n",
            "    Uninstalling pettingzoo-1.24.3:\n",
            "      Successfully uninstalled pettingzoo-1.24.3\n",
            "\u001b[31mERROR: pip's dependency resolver does not currently take into account all the packages that are installed. This behaviour is the source of the following dependency conflicts.\n",
            "magent2 0.3.3 requires pettingzoo>=1.23.1, but you have pettingzoo 1.22.0 which is incompatible.\u001b[0m\u001b[31m\n",
            "\u001b[0mSuccessfully installed pettingzoo-1.22.0\n"
          ]
        }
      ],
      "source": [
        "pip install pettingzoo==1.22.0"
      ]
    },
    {
      "cell_type": "code",
      "execution_count": 11,
      "metadata": {
        "id": "NTA6cvsVEaw9"
      },
      "outputs": [],
      "source": [
        "# Define the Q-networks (same as training)\n",
        "import torch\n",
        "import torch.nn as nn\n",
        "import torch.optim as optim\n",
        "from magent2.environments import battle_v4\n",
        "import numpy as np\n",
        "from torch.utils.tensorboard import SummaryWriter\n",
        "import os\n",
        "import datetime\n",
        "from collections import deque\n",
        "import random\n",
        "import math\n",
        "\n",
        "# --- Noisy Linear Layer ---\n",
        "class NoisyLinear(nn.Module):\n",
        "    def __init__(self, in_features, out_features, std_init=0.5):\n",
        "        super(NoisyLinear, self).__init__()\n",
        "        self.in_features = in_features\n",
        "        self.out_features = out_features\n",
        "        self.std_init = std_init\n",
        "\n",
        "        self.weight_mu = nn.Parameter(torch.empty(out_features, in_features))\n",
        "        self.weight_sigma = nn.Parameter(torch.empty(out_features, in_features))\n",
        "        self.register_buffer('weight_epsilon', torch.empty(out_features, in_features))\n",
        "\n",
        "        self.bias_mu = nn.Parameter(torch.empty(out_features))\n",
        "        self.bias_sigma = nn.Parameter(torch.empty(out_features))\n",
        "        self.register_buffer('bias_epsilon', torch.empty(out_features))\n",
        "\n",
        "        self.reset_parameters()\n",
        "        self.reset_noise()\n",
        "\n",
        "    def reset_parameters(self):\n",
        "        mu_range = 1 / math.sqrt(self.in_features)\n",
        "        self.weight_mu.data.uniform_(-mu_range, mu_range)\n",
        "        self.weight_sigma.data.fill_(self.std_init / math.sqrt(self.in_features))\n",
        "        self.bias_mu.data.uniform_(-mu_range, mu_range)\n",
        "        self.bias_sigma.data.fill_(self.std_init / math.sqrt(self.out_features))\n",
        "\n",
        "    def _scale_noise(self, size):\n",
        "        x = torch.randn(size)\n",
        "        return x.sign().mul_(x.abs().sqrt_())\n",
        "\n",
        "    def reset_noise(self):\n",
        "        epsilon_in = self._scale_noise(self.in_features)\n",
        "        epsilon_out = self._scale_noise(self.out_features)\n",
        "        self.weight_epsilon.copy_(epsilon_out.ger(epsilon_in))\n",
        "        self.bias_epsilon.copy_(epsilon_out)\n",
        "\n",
        "    def forward(self, input):\n",
        "        if self.training:\n",
        "            return nn.functional.linear(input, self.weight_mu + self.weight_sigma * self.weight_epsilon, self.bias_mu + self.bias_sigma * self.bias_epsilon)\n",
        "        else:\n",
        "            return nn.functional.linear(input, self.weight_mu, self.bias_mu)\n",
        "\n",
        "# --- Dueling Q-Network with Noisy Layers ---\n",
        "class DuelingNoisyQNetwork(nn.Module):\n",
        "    def __init__(self, observation_shape, action_shape):\n",
        "        super().__init__()\n",
        "        self.cnn = nn.Sequential(\n",
        "            nn.Conv2d(observation_shape[-1], observation_shape[-1], 3),\n",
        "            nn.ReLU(),\n",
        "            nn.Conv2d(observation_shape[-1], observation_shape[-1], 3),\n",
        "            nn.ReLU(),\n",
        "        )\n",
        "        dummy_input = torch.randn(observation_shape).permute(2, 0, 1).unsqueeze(0)\n",
        "        dummy_output = self.cnn(dummy_input)\n",
        "        flatten_dim = dummy_output.view(-1).shape[0]\n",
        "\n",
        "        self.fc_value = nn.Sequential(\n",
        "            NoisyLinear(flatten_dim, 120),\n",
        "            nn.ReLU(),\n",
        "            NoisyLinear(120, 1)\n",
        "        )\n",
        "\n",
        "        self.fc_advantage = nn.Sequential(\n",
        "            NoisyLinear(flatten_dim, 120),\n",
        "            nn.ReLU(),\n",
        "            NoisyLinear(120, action_shape)\n",
        "        )\n",
        "\n",
        "    def forward(self, x):\n",
        "        x = x.permute(0, 3, 1, 2)\n",
        "        x = self.cnn(x)\n",
        "        x = x.reshape(x.size(0), -1)\n",
        "        value = self.fc_value(x)\n",
        "        advantage = self.fc_advantage(x)\n",
        "        return value + advantage - advantage.mean(dim=1, keepdim=True)\n",
        "\n",
        "    def reset_noise(self):\n",
        "        for m in self.modules():\n",
        "            if isinstance(m, NoisyLinear):\n",
        "                m.reset_noise()\n",
        "\n"
      ]
    },
    {
      "cell_type": "code",
      "execution_count": 12,
      "metadata": {
        "id": "ttqcXPUOEeaD"
      },
      "outputs": [],
      "source": [
        "class RedQNetwork(nn.Module):\n",
        "    def __init__(self, observation_shape, action_shape):\n",
        "        super().__init__()\n",
        "        self.cnn = nn.Sequential(\n",
        "            nn.Conv2d(observation_shape[-1], observation_shape[-1], 3),\n",
        "            nn.ReLU(),\n",
        "            nn.Conv2d(observation_shape[-1], observation_shape[-1], 3),\n",
        "            nn.ReLU(),\n",
        "        )\n",
        "        dummy_input = torch.randn(observation_shape).permute(2, 0, 1)\n",
        "        dummy_output = self.cnn(dummy_input)\n",
        "        flatten_dim = dummy_output.view(-1).shape[0]\n",
        "        self.network = nn.Sequential(\n",
        "            nn.Linear(flatten_dim, 120),\n",
        "            nn.ReLU(),\n",
        "            nn.Linear(120, 84),\n",
        "            nn.ReLU(),\n",
        "            nn.Linear(84, action_shape),\n",
        "        )\n",
        "\n",
        "    def forward(self, x):\n",
        "        assert len(x.shape) >= 3, \"only support magent input observation\"\n",
        "        x = self.cnn(x)\n",
        "        if len(x.shape) == 3:\n",
        "            batchsize = 1\n",
        "        else:\n",
        "            batchsize = x.shape[0]\n",
        "        x = x.reshape(batchsize, -1)\n",
        "        return self.network(x)"
      ]
    },
    {
      "cell_type": "code",
      "execution_count": null,
      "metadata": {},
      "outputs": [],
      "source": [
        "import torch.nn as nn\n",
        "import torch\n",
        "\n",
        "\n",
        "class FinalQNetwork(nn.Module):\n",
        "    def __init__(self, observation_shape, action_shape):\n",
        "        super().__init__()\n",
        "        self.cnn = nn.Sequential(\n",
        "            nn.Conv2d(observation_shape[-1], observation_shape[-1], 3),\n",
        "            nn.ReLU(),\n",
        "            nn.Conv2d(observation_shape[-1], observation_shape[-1], 3),\n",
        "            nn.ReLU(),\n",
        "        )\n",
        "        dummy_input = torch.randn(observation_shape).permute(2, 0, 1)\n",
        "        dummy_output = self.cnn(dummy_input)\n",
        "        flatten_dim = dummy_output.view(-1).shape[0]\n",
        "        self.network = nn.Sequential(\n",
        "            nn.Linear(flatten_dim, 120),\n",
        "            # nn.LayerNorm(120),\n",
        "            nn.ReLU(),\n",
        "            nn.Linear(120, 84),\n",
        "            # nn.LayerNorm(84),\n",
        "            nn.Tanh(),\n",
        "        )\n",
        "        self.last_layer = nn.Linear(84, action_shape)\n",
        "\n",
        "    def forward(self, x):\n",
        "        assert len(x.shape) >= 3, \"only support magent input observation\"\n",
        "        x = self.cnn(x)\n",
        "        if len(x.shape) == 3:\n",
        "            batchsize = 1\n",
        "        else:\n",
        "            batchsize = x.shape[0]\n",
        "        x = x.reshape(batchsize, -1)\n",
        "        x = self.network(x)\n",
        "        self.last_latent = x\n",
        "        return self.last_layer(x)"
      ]
    },
    {
      "cell_type": "code",
      "execution_count": 25,
      "metadata": {
        "colab": {
          "base_uri": "https://localhost:8080/"
        },
        "id": "YulQCqPu9a52",
        "outputId": "f35ad5ff-bdfc-4e07-8007-ab37a8a5944b"
      },
      "outputs": [
        {
          "name": "stdout",
          "output_type": "stream",
          "text": [
            "Using device: cpu\n"
          ]
        },
        {
          "name": "stderr",
          "output_type": "stream",
          "text": [
            "<ipython-input-25-a5d0b391ae56>:22: FutureWarning: You are using `torch.load` with `weights_only=False` (the current default value), which uses the default pickle module implicitly. It is possible to construct malicious pickle data which will execute arbitrary code during unpickling (See https://github.com/pytorch/pytorch/blob/main/SECURITY.md#untrusted-models for more details). In a future release, the default value for `weights_only` will be flipped to `True`. This limits the functions that could be executed during unpickling. Arbitrary objects will no longer be allowed to be loaded via this mode unless they are explicitly allowlisted by the user via `torch.serialization.add_safe_globals`. We recommend you start setting `weights_only=True` for any use case where you don't have full control of the loaded file. Please open an issue on GitHub for any issues related to this experimental feature.\n",
            "  checkpoint = torch.load(model_path, map_location=device)\n"
          ]
        },
        {
          "name": "stdout",
          "output_type": "stream",
          "text": [
            "Done recording pretrained agents\n"
          ]
        }
      ],
      "source": [
        "# Initialize environment and device\n",
        "device = torch.device(\"cuda\" if torch.cuda.is_available() else \"cpu\")\n",
        "print(f\"Using device: {device}\")\n",
        "import cv2\n",
        "if __name__ == \"__main__\":\n",
        "    # Initialize environment\n",
        "    env = battle_v4.env(map_size=45, render_mode=\"rgb_array\")\n",
        "    vid_dir = \"video\"\n",
        "    os.makedirs(vid_dir, exist_ok=True)\n",
        "    fps = 35\n",
        "\n",
        "    env.reset()\n",
        "    frames = []\n",
        "\n",
        "    # Load the pretrained model\n",
        "    model_path = \"blue_agent_dueling_ddqn_noise_per_best.pth\"  # Adjust path as needed\n",
        "    sample_observation = env.observation_spaces[env.agents[0]].shape\n",
        "    state_space = sample_observation  # Dynamic observation shape\n",
        "    action_space = env.action_spaces[env.agents[0]].n\n",
        "\n",
        "    blue_q_network = DuelingNoisyQNetwork(state_space, action_space).to(device)\n",
        "    checkpoint = torch.load(model_path, map_location=device)\n",
        "    blue_q_network.load_state_dict(checkpoint)\n",
        "    blue_q_network.eval()\n",
        "\n",
        "    red_q_network = RedQNetwork(state_space, action_space).to(device)\n",
        "    red_q_network.load_state_dict(torch.load(\"red.pt\", weights_only=True, map_location=\"cpu\"))\n",
        "    red_q_network.eval()\n",
        "\n",
        "    for agent in env.agent_iter():\n",
        "        observation, reward, termination, truncation, info = env.last()\n",
        "\n",
        "        if termination or truncation:\n",
        "            action = None  # This agent has died\n",
        "        else:\n",
        "            if agent.startswith(\"red\"):\n",
        "                observation = (\n",
        "                    torch.Tensor(observation).float().permute([2, 0, 1]).unsqueeze(0).to(device)\n",
        "                )\n",
        "                with torch.no_grad():\n",
        "                   red_q_values = red_q_network(observation)\n",
        "                   action = torch.argmax(red_q_values, dim=1).numpy()[0]\n",
        "            else:\n",
        "                obs = torch.tensor(observation, dtype=torch.float32).unsqueeze(0).to(device)\n",
        "                with torch.no_grad():\n",
        "                    blue_q_network.reset_noise()\n",
        "                    blue_q_values = blue_q_network(obs)\n",
        "                action = int(torch.argmax(blue_q_values, dim=1).item())\n",
        "        env.step(action)\n",
        "\n",
        "        if agent == \"blue_12\" or agent == \"blue_77\" or agent == \"blue_37\" or agent == \"blue_7\":\n",
        "            frames.append(env.render())\n",
        "\n",
        "    # Save the video\n",
        "    height, width, _ = frames[0].shape\n",
        "    out = cv2.VideoWriter(\n",
        "        os.path.join(vid_dir, f\"pretrained_agents.mp4\"),\n",
        "        cv2.VideoWriter_fourcc(*\"mp4v\"),\n",
        "        fps,\n",
        "        (width, height),\n",
        "    )\n",
        "    for frame in frames:\n",
        "        frame_bgr = cv2.cvtColor(frame, cv2.COLOR_RGB2BGR)\n",
        "        out.write(frame_bgr)\n",
        "    out.release()\n",
        "    print(\"Done recording pretrained agents\")\n",
        "\n",
        "    env.close()"
      ]
    },
    {
      "cell_type": "code",
      "execution_count": 26,
      "metadata": {
        "colab": {
          "base_uri": "https://localhost:8080/"
        },
        "id": "4mvwEusJESkj",
        "outputId": "f211228f-4131-443c-c544-155f7f8eb86c"
      },
      "outputs": [
        {
          "name": "stderr",
          "output_type": "stream",
          "text": [
            "<ipython-input-26-23842e4e9dc1>:23: FutureWarning: You are using `torch.load` with `weights_only=False` (the current default value), which uses the default pickle module implicitly. It is possible to construct malicious pickle data which will execute arbitrary code during unpickling (See https://github.com/pytorch/pytorch/blob/main/SECURITY.md#untrusted-models for more details). In a future release, the default value for `weights_only` will be flipped to `True`. This limits the functions that could be executed during unpickling. Arbitrary objects will no longer be allowed to be loaded via this mode unless they are explicitly allowlisted by the user via `torch.serialization.add_safe_globals`. We recommend you start setting `weights_only=True` for any use case where you don't have full control of the loaded file. Please open an issue on GitHub for any issues related to this experimental feature.\n",
            "  blue_q_network.load_state_dict(torch.load(\"blue_agent_dueling_ddqn_noise_per_best.pth\", map_location=device))\n"
          ]
        },
        {
          "name": "stdout",
          "output_type": "stream",
          "text": [
            "====================\n",
            "Eval with random policy\n"
          ]
        },
        {
          "name": "stderr",
          "output_type": "stream",
          "text": [
            "100%|██████████| 30/30 [02:53<00:00,  5.78s/it]\n"
          ]
        },
        {
          "name": "stdout",
          "output_type": "stream",
          "text": [
            "{'winrate_red': 0.0, 'winrate_blue': 1.0, 'average_rewards_red': -0.8921296646504245, 'average_rewards_blue': 4.875726308202209}\n",
            "====================\n",
            "Eval with trained policy\n"
          ]
        },
        {
          "name": "stderr",
          "output_type": "stream",
          "text": [
            "100%|██████████| 30/30 [01:57<00:00,  3.91s/it]"
          ]
        },
        {
          "name": "stdout",
          "output_type": "stream",
          "text": [
            "{'winrate_red': 0.0, 'winrate_blue': 1.0, 'average_rewards_red': 1.7953353778539614, 'average_rewards_blue': 4.947582273135046}\n",
            "====================\n"
          ]
        },
        {
          "name": "stderr",
          "output_type": "stream",
          "text": [
            "\n"
          ]
        }
      ],
      "source": [
        "from magent2.environments import battle_v4\n",
        "import torch\n",
        "import numpy as np\n",
        "\n",
        "try:\n",
        "    from tqdm import tqdm\n",
        "except ImportError:\n",
        "    tqdm = lambda x, *args, **kwargs: x  # Fallback: tqdm becomes a no-op\n",
        "\n",
        "\n",
        "def eval():\n",
        "    max_cycles = 300\n",
        "    env = battle_v4.env(map_size=45, max_cycles=max_cycles)\n",
        "    device = \"cuda\" if torch.cuda.is_available() else \"cpu\"\n",
        "\n",
        "    def random_policy(env, agent, obs):\n",
        "        return env.action_space(agent).sample()\n",
        "\n",
        "    red_q_network = RedQNetwork(state_space, action_space).to(device)\n",
        "    red_q_network.load_state_dict(torch.load(\"red.pt\", weights_only=True, map_location=\"cpu\"))\n",
        "\n",
        "    blue_q_network = DuelingNoisyQNetwork(state_space, action_space).to(device)\n",
        "    blue_q_network.load_state_dict(torch.load(\"blue_agent_dueling_ddqn_noise_per_best.pth\", map_location=device))\n",
        "\n",
        "\n",
        "    def pretrain_policy(env, agent, obs):\n",
        "        observation = (\n",
        "            torch.Tensor(obs).float().permute([2, 0, 1]).unsqueeze(0).to(device)\n",
        "        )\n",
        "        with torch.no_grad():\n",
        "            red_q_values = red_q_network(observation)\n",
        "        return torch.argmax(red_q_values, dim=1).cpu().numpy()[0]\n",
        "\n",
        "    def my_model_pretrain_policy(env, agent, obs):\n",
        "        observation = torch.tensor(obs, dtype=torch.float32).unsqueeze(0).to(device)\n",
        "        with torch.no_grad():\n",
        "          blue_q_network.reset_noise()\n",
        "          blue_q_values = blue_q_network(observation)\n",
        "        return int(torch.argmax(blue_q_values, dim=1).item())\n",
        "    def run_eval(env, red_policy, blue_policy, n_episode: int = 100):\n",
        "        red_win, blue_win = [], []\n",
        "        red_tot_rw, blue_tot_rw = [], []\n",
        "        n_agent_each_team = len(env.env.action_spaces) // 2\n",
        "\n",
        "        for _ in tqdm(range(n_episode)):\n",
        "            env.reset()\n",
        "            n_kill = {\"red\": 0, \"blue\": 0}\n",
        "            red_reward, blue_reward = 0, 0\n",
        "\n",
        "            for agent in env.agent_iter():\n",
        "                observation, reward, termination, truncation, info = env.last()\n",
        "                agent_team = agent.split(\"_\")[0]\n",
        "\n",
        "                n_kill[agent_team] += (\n",
        "                    reward > 4.5\n",
        "                )  # This assumes default reward settups\n",
        "                if agent_team == \"red\":\n",
        "                    red_reward += reward\n",
        "                else:\n",
        "                    blue_reward += reward\n",
        "\n",
        "                if termination or truncation:\n",
        "                    action = None  # this agent has died\n",
        "                else:\n",
        "                    if agent_team == \"red\":\n",
        "                        action = red_policy(env, agent, observation)\n",
        "                    else:\n",
        "                        action = blue_policy(env, agent, observation)\n",
        "\n",
        "                env.step(action)\n",
        "\n",
        "            who_wins = \"red\" if n_kill[\"red\"] >= n_kill[\"blue\"] + 5 else \"draw\"\n",
        "            who_wins = \"blue\" if n_kill[\"red\"] + 5 <= n_kill[\"blue\"] else who_wins\n",
        "            red_win.append(who_wins == \"red\")\n",
        "            blue_win.append(who_wins == \"blue\")\n",
        "\n",
        "            red_tot_rw.append(red_reward / n_agent_each_team)\n",
        "            blue_tot_rw.append(blue_reward / n_agent_each_team)\n",
        "\n",
        "        return {\n",
        "            \"winrate_red\": np.mean(red_win),\n",
        "            \"winrate_blue\": np.mean(blue_win),\n",
        "            \"average_rewards_red\": np.mean(red_tot_rw),\n",
        "            \"average_rewards_blue\": np.mean(blue_tot_rw),\n",
        "        }\n",
        "\n",
        "    print(\"=\" * 20)\n",
        "    print(\"Eval with random policy\")\n",
        "    print(\n",
        "        run_eval(\n",
        "            env=env, red_policy=random_policy, blue_policy=my_model_pretrain_policy, n_episode=30\n",
        "        )\n",
        "    )\n",
        "    print(\"=\" * 20)\n",
        "\n",
        "    print(\"Eval with trained policy\")\n",
        "    print(\n",
        "        run_eval(\n",
        "            env=env, red_policy=pretrain_policy, blue_policy=my_model_pretrain_policy, n_episode=30\n",
        "        )\n",
        "    )\n",
        "    print(\"=\" * 20)\n",
        "    \n",
        "    print(\"Eval with final trained policy\")\n",
        "    print(\n",
        "        run_eval(\n",
        "            env=env, red_policy=pretrain_policy, blue_policy=my_model_pretrain_policy, n_episode=30\n",
        "        )\n",
        "    )\n",
        "    print(\"=\" * 20)\n",
        "\n",
        "\n",
        "if __name__ == \"__main__\":\n",
        "    eval()"
      ]
    }
  ],
  "metadata": {
    "colab": {
      "provenance": []
    },
    "kernelspec": {
      "display_name": "Python 3",
      "name": "python3"
    },
    "language_info": {
      "name": "python"
    }
  },
  "nbformat": 4,
  "nbformat_minor": 0
}
