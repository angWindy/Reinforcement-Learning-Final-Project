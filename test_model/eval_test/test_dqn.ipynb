{
  "nbformat": 4,
  "nbformat_minor": 0,
  "metadata": {
    "colab": {
      "provenance": []
    },
    "kernelspec": {
      "name": "python3",
      "display_name": "Python 3"
    },
    "language_info": {
      "name": "python"
    }
  },
  "cells": [
    {
      "cell_type": "code",
      "execution_count": 1,
      "metadata": {
        "colab": {
          "base_uri": "https://localhost:8080/"
        },
        "id": "nVFr6wiU0RSV",
        "outputId": "d9bf3c83-58b4-4ff1-8e89-7ca00de6abc3"
      },
      "outputs": [
        {
          "output_type": "stream",
          "name": "stdout",
          "text": [
            "Collecting magent2\n",
            "  Downloading magent2-0.3.3-cp310-cp310-manylinux_2_17_x86_64.manylinux2014_x86_64.whl.metadata (3.3 kB)\n",
            "Requirement already satisfied: numpy<2.0,>=1.21.0 in /usr/local/lib/python3.10/dist-packages (from magent2) (1.26.4)\n",
            "Requirement already satisfied: pygame>=2.1.0 in /usr/local/lib/python3.10/dist-packages (from magent2) (2.6.1)\n",
            "Collecting pettingzoo>=1.23.1 (from magent2)\n",
            "  Downloading pettingzoo-1.24.3-py3-none-any.whl.metadata (8.5 kB)\n",
            "Collecting gymnasium>=0.28.0 (from pettingzoo>=1.23.1->magent2)\n",
            "  Downloading gymnasium-1.0.0-py3-none-any.whl.metadata (9.5 kB)\n",
            "Requirement already satisfied: cloudpickle>=1.2.0 in /usr/local/lib/python3.10/dist-packages (from gymnasium>=0.28.0->pettingzoo>=1.23.1->magent2) (3.1.0)\n",
            "Requirement already satisfied: typing-extensions>=4.3.0 in /usr/local/lib/python3.10/dist-packages (from gymnasium>=0.28.0->pettingzoo>=1.23.1->magent2) (4.12.2)\n",
            "Collecting farama-notifications>=0.0.1 (from gymnasium>=0.28.0->pettingzoo>=1.23.1->magent2)\n",
            "  Downloading Farama_Notifications-0.0.4-py3-none-any.whl.metadata (558 bytes)\n",
            "Downloading magent2-0.3.3-cp310-cp310-manylinux_2_17_x86_64.manylinux2014_x86_64.whl (1.7 MB)\n",
            "\u001b[2K   \u001b[90m━━━━━━━━━━━━━━━━━━━━━━━━━━━━━━━━━━━━━━━━\u001b[0m \u001b[32m1.7/1.7 MB\u001b[0m \u001b[31m15.6 MB/s\u001b[0m eta \u001b[36m0:00:00\u001b[0m\n",
            "\u001b[?25hDownloading pettingzoo-1.24.3-py3-none-any.whl (847 kB)\n",
            "\u001b[2K   \u001b[90m━━━━━━━━━━━━━━━━━━━━━━━━━━━━━━━━━━━━━━━━\u001b[0m \u001b[32m847.8/847.8 kB\u001b[0m \u001b[31m37.8 MB/s\u001b[0m eta \u001b[36m0:00:00\u001b[0m\n",
            "\u001b[?25hDownloading gymnasium-1.0.0-py3-none-any.whl (958 kB)\n",
            "\u001b[2K   \u001b[90m━━━━━━━━━━━━━━━━━━━━━━━━━━━━━━━━━━━━━━━━\u001b[0m \u001b[32m958.1/958.1 kB\u001b[0m \u001b[31m37.5 MB/s\u001b[0m eta \u001b[36m0:00:00\u001b[0m\n",
            "\u001b[?25hDownloading Farama_Notifications-0.0.4-py3-none-any.whl (2.5 kB)\n",
            "Installing collected packages: farama-notifications, gymnasium, pettingzoo, magent2\n",
            "Successfully installed farama-notifications-0.0.4 gymnasium-1.0.0 magent2-0.3.3 pettingzoo-1.24.3\n"
          ]
        }
      ],
      "source": [
        "pip install magent2"
      ]
    },
    {
      "cell_type": "code",
      "source": [
        "pip install pettingzoo==1.22.0"
      ],
      "metadata": {
        "colab": {
          "base_uri": "https://localhost:8080/"
        },
        "id": "DEPHSbpj0oVT",
        "outputId": "8c85fac5-73eb-4124-a798-b085ab8e8c6c"
      },
      "execution_count": 2,
      "outputs": [
        {
          "output_type": "stream",
          "name": "stdout",
          "text": [
            "Collecting pettingzoo==1.22.0\n",
            "  Downloading PettingZoo-1.22.0-py3-none-any.whl.metadata (5.0 kB)\n",
            "Requirement already satisfied: numpy>=1.18.0 in /usr/local/lib/python3.10/dist-packages (from pettingzoo==1.22.0) (1.26.4)\n",
            "Requirement already satisfied: gymnasium>=0.26.0 in /usr/local/lib/python3.10/dist-packages (from pettingzoo==1.22.0) (1.0.0)\n",
            "Requirement already satisfied: cloudpickle>=1.2.0 in /usr/local/lib/python3.10/dist-packages (from gymnasium>=0.26.0->pettingzoo==1.22.0) (3.1.0)\n",
            "Requirement already satisfied: typing-extensions>=4.3.0 in /usr/local/lib/python3.10/dist-packages (from gymnasium>=0.26.0->pettingzoo==1.22.0) (4.12.2)\n",
            "Requirement already satisfied: farama-notifications>=0.0.1 in /usr/local/lib/python3.10/dist-packages (from gymnasium>=0.26.0->pettingzoo==1.22.0) (0.0.4)\n",
            "Downloading PettingZoo-1.22.0-py3-none-any.whl (823 kB)\n",
            "\u001b[2K   \u001b[90m━━━━━━━━━━━━━━━━━━━━━━━━━━━━━━━━━━━━━━━━\u001b[0m \u001b[32m823.4/823.4 kB\u001b[0m \u001b[31m8.2 MB/s\u001b[0m eta \u001b[36m0:00:00\u001b[0m\n",
            "\u001b[?25hInstalling collected packages: pettingzoo\n",
            "  Attempting uninstall: pettingzoo\n",
            "    Found existing installation: pettingzoo 1.24.3\n",
            "    Uninstalling pettingzoo-1.24.3:\n",
            "      Successfully uninstalled pettingzoo-1.24.3\n",
            "\u001b[31mERROR: pip's dependency resolver does not currently take into account all the packages that are installed. This behaviour is the source of the following dependency conflicts.\n",
            "magent2 0.3.3 requires pettingzoo>=1.23.1, but you have pettingzoo 1.22.0 which is incompatible.\u001b[0m\u001b[31m\n",
            "\u001b[0mSuccessfully installed pettingzoo-1.22.0\n"
          ]
        }
      ]
    },
    {
      "cell_type": "code",
      "source": [
        "import torch\n",
        "import torch.nn as nn\n",
        "import os\n",
        "import cv2\n",
        "import numpy as np\n",
        "from magent2.environments import battle_v4\n",
        "\n",
        "# Define the Q-networks (same as training)\n",
        "class BlueQNetwork(nn.Module):\n",
        "    def __init__(self, observation_shape, action_shape):\n",
        "        super().__init__()\n",
        "        self.cnn = nn.Sequential(\n",
        "            nn.Conv2d(observation_shape[-1], observation_shape[-1], 3),\n",
        "            nn.ReLU(),\n",
        "            nn.Conv2d(observation_shape[-1], observation_shape[-1], 3),\n",
        "            nn.ReLU(),\n",
        "        )\n",
        "        dummy_input = torch.randn(observation_shape).permute(2, 0, 1).unsqueeze(0)\n",
        "        dummy_output = self.cnn(dummy_input)\n",
        "        flatten_dim = dummy_output.view(-1).shape[0]\n",
        "\n",
        "        self.fc_value = nn.Sequential(\n",
        "            nn.Linear(flatten_dim, 120),\n",
        "            nn.ReLU(),\n",
        "            nn.Linear(120, 1)\n",
        "        )\n",
        "\n",
        "        self.fc_advantage = nn.Sequential(\n",
        "            nn.Linear(flatten_dim, 120),\n",
        "            nn.ReLU(),\n",
        "            nn.Linear(120, action_shape)\n",
        "        )\n",
        "\n",
        "    def forward(self, x):\n",
        "        x = x.permute(0, 3, 1, 2)\n",
        "        x = self.cnn(x)\n",
        "        x = x.reshape(x.size(0), -1)\n",
        "        value = self.fc_value(x)\n",
        "        advantage = self.fc_advantage(x)\n",
        "        return value + advantage - advantage.mean(dim=1, keepdim=True)\n"
      ],
      "metadata": {
        "id": "cXtbMtWhHWGD"
      },
      "execution_count": 3,
      "outputs": []
    },
    {
      "cell_type": "code",
      "source": [
        "\n",
        "class RedQNetwork(nn.Module):\n",
        "    def __init__(self, observation_shape, action_shape):\n",
        "        super().__init__()\n",
        "        self.cnn = nn.Sequential(\n",
        "            nn.Conv2d(observation_shape[-1], observation_shape[-1], 3),\n",
        "            nn.ReLU(),\n",
        "            nn.Conv2d(observation_shape[-1], observation_shape[-1], 3),\n",
        "            nn.ReLU(),\n",
        "        )\n",
        "        dummy_input = torch.randn(observation_shape).permute(2, 0, 1)\n",
        "        dummy_output = self.cnn(dummy_input)\n",
        "        flatten_dim = dummy_output.view(-1).shape[0]\n",
        "        self.network = nn.Sequential(\n",
        "            nn.Linear(flatten_dim, 120),\n",
        "            nn.ReLU(),\n",
        "            nn.Linear(120, 84),\n",
        "            nn.ReLU(),\n",
        "            nn.Linear(84, action_shape),\n",
        "        )\n",
        "\n",
        "    def forward(self, x):\n",
        "        assert len(x.shape) >= 3, \"only support magent input observation\"\n",
        "        x = self.cnn(x)\n",
        "        if len(x.shape) == 3:\n",
        "            batchsize = 1\n",
        "        else:\n",
        "            batchsize = x.shape[0]\n",
        "        x = x.reshape(batchsize, -1)\n",
        "        return self.network(x)\n"
      ],
      "metadata": {
        "id": "yvGIRUsCHXnc"
      },
      "execution_count": 4,
      "outputs": []
    },
    {
      "cell_type": "code",
      "source": [
        "# Initialize environment and device\n",
        "device = torch.device(\"cuda\" if torch.cuda.is_available() else \"cpu\")\n",
        "print(f\"Using device: {device}\")\n",
        "\n",
        "if __name__ == \"__main__\":\n",
        "    # Initialize environment\n",
        "    env = battle_v4.env(map_size=45, render_mode=\"rgb_array\")\n",
        "    vid_dir = \"video\"\n",
        "    os.makedirs(vid_dir, exist_ok=True)\n",
        "    fps = 35\n",
        "\n",
        "    env.reset()\n",
        "    frames = []\n",
        "\n",
        "    # Load the pretrained model\n",
        "    model_path = \"blue_agent_dueling_ddqn_per_best.pth\"  # Adjust path as needed\n",
        "    sample_observation = env.observation_spaces[env.agents[0]].shape\n",
        "    state_space = sample_observation  # Dynamic observation shape\n",
        "    action_space = env.action_spaces[env.agents[0]].n\n",
        "\n",
        "    blue_q_network = BlueQNetwork(state_space, action_space).to(device)\n",
        "    checkpoint = torch.load(model_path, map_location=device)\n",
        "    blue_q_network.load_state_dict(checkpoint)\n",
        "    blue_q_network.eval()\n",
        "\n",
        "    red_q_network = RedQNetwork(state_space, action_space).to(device)\n",
        "    red_q_network.load_state_dict(torch.load(\"red.pt\", weights_only=True, map_location=\"cpu\"))\n",
        "    red_q_network.eval()\n",
        "\n",
        "    for agent in env.agent_iter():\n",
        "        observation, reward, termination, truncation, info = env.last()\n",
        "\n",
        "        if termination or truncation:\n",
        "            action = None  # This agent has died\n",
        "        else:\n",
        "            if agent.startswith(\"red\"):\n",
        "                action = env.action_space(agent).sample()\n",
        "            else:\n",
        "                obs = torch.tensor(observation, dtype=torch.float32).unsqueeze(0).to(device)\n",
        "                with torch.no_grad():\n",
        "                    blue_q_values = blue_q_network(obs)\n",
        "                action = int(torch.argmax(blue_q_values, dim=1).item())\n",
        "        env.step(action)\n",
        "\n",
        "        if agent == \"blue_12\" or agent == \"blue_77\" or agent == \"blue_37\" or agent == \"blue_7\":\n",
        "            frames.append(env.render())\n",
        "\n",
        "    # Save the video\n",
        "    height, width, _ = frames[0].shape\n",
        "    out = cv2.VideoWriter(\n",
        "        os.path.join(vid_dir, f\"pretrained_agents.mp4\"),\n",
        "        cv2.VideoWriter_fourcc(*\"mp4v\"),\n",
        "        fps,\n",
        "        (width, height),\n",
        "    )\n",
        "    for frame in frames:\n",
        "        frame_bgr = cv2.cvtColor(frame, cv2.COLOR_RGB2BGR)\n",
        "        out.write(frame_bgr)\n",
        "    out.release()\n",
        "    print(\"Done recording pretrained agents\")\n",
        "\n",
        "    env.close()"
      ],
      "metadata": {
        "colab": {
          "base_uri": "https://localhost:8080/"
        },
        "id": "YulQCqPu9a52",
        "outputId": "b15ad275-7ad8-4704-b747-0aff23e33b41"
      },
      "execution_count": 6,
      "outputs": [
        {
          "output_type": "stream",
          "name": "stdout",
          "text": [
            "Using device: cpu\n"
          ]
        },
        {
          "output_type": "stream",
          "name": "stderr",
          "text": [
            "/usr/local/lib/python3.10/dist-packages/pettingzoo/utils/wrappers/base.py:50: UserWarning: The `observation_spaces` dictionary is deprecated. Use the `observation_space` function instead.\n",
            "  warnings.warn(\n",
            "/usr/local/lib/python3.10/dist-packages/pettingzoo/utils/wrappers/base.py:64: UserWarning: The `action_spaces` dictionary is deprecated. Use the `action_space` function instead.\n",
            "  warnings.warn(\n",
            "<ipython-input-6-bde1d2ec9fd4>:22: FutureWarning: You are using `torch.load` with `weights_only=False` (the current default value), which uses the default pickle module implicitly. It is possible to construct malicious pickle data which will execute arbitrary code during unpickling (See https://github.com/pytorch/pytorch/blob/main/SECURITY.md#untrusted-models for more details). In a future release, the default value for `weights_only` will be flipped to `True`. This limits the functions that could be executed during unpickling. Arbitrary objects will no longer be allowed to be loaded via this mode unless they are explicitly allowlisted by the user via `torch.serialization.add_safe_globals`. We recommend you start setting `weights_only=True` for any use case where you don't have full control of the loaded file. Please open an issue on GitHub for any issues related to this experimental feature.\n",
            "  checkpoint = torch.load(model_path, map_location=device)\n"
          ]
        },
        {
          "output_type": "stream",
          "name": "stdout",
          "text": [
            "Done recording pretrained agents\n"
          ]
        }
      ]
    },
    {
      "cell_type": "code",
      "source": [
        "from magent2.environments import battle_v4\n",
        "import torch\n",
        "import numpy as np\n",
        "\n",
        "try:\n",
        "    from tqdm import tqdm\n",
        "except ImportError:\n",
        "    tqdm = lambda x, *args, **kwargs: x  # Fallback: tqdm becomes a no-op\n",
        "\n",
        "\n",
        "def eval():\n",
        "    max_cycles = 300\n",
        "    env = battle_v4.env(map_size=45, max_cycles=max_cycles)\n",
        "    device = \"cuda\" if torch.cuda.is_available() else \"cpu\"\n",
        "\n",
        "    def random_policy(env, agent, obs):\n",
        "        return env.action_space(agent).sample()\n",
        "\n",
        "    red_q_network = RedQNetwork(state_space, action_space).to(device)\n",
        "    red_q_network.load_state_dict(torch.load(\"red.pt\", weights_only=True, map_location=\"cpu\"))\n",
        "\n",
        "    blue_q_network = BlueQNetwork(state_space, action_space).to(device)\n",
        "    blue_q_network.load_state_dict(torch.load(\"blue_agent_dueling_ddqn_per_best.pth\", map_location=device))\n",
        "\n",
        "\n",
        "    def pretrain_policy(env, agent, obs):\n",
        "        observation = (\n",
        "            torch.Tensor(obs).float().permute([2, 0, 1]).unsqueeze(0).to(device)\n",
        "        )\n",
        "        with torch.no_grad():\n",
        "            red_q_values = red_q_network(observation)\n",
        "        return torch.argmax(red_q_values, dim=1).cpu().numpy()[0]\n",
        "\n",
        "    def my_model_pretrain_policy(env, agent, obs):\n",
        "        observation = torch.tensor(obs, dtype=torch.float32).unsqueeze(0).to(device)\n",
        "        with torch.no_grad():\n",
        "          blue_q_values = blue_q_network(observation)\n",
        "        return int(torch.argmax(blue_q_values, dim=1).item())\n",
        "    def run_eval(env, red_policy, blue_policy, n_episode: int = 100):\n",
        "        red_win, blue_win = [], []\n",
        "        red_tot_rw, blue_tot_rw = [], []\n",
        "        n_agent_each_team = len(env.env.action_spaces) // 2\n",
        "\n",
        "        for _ in tqdm(range(n_episode)):\n",
        "            env.reset()\n",
        "            n_kill = {\"red\": 0, \"blue\": 0}\n",
        "            red_reward, blue_reward = 0, 0\n",
        "\n",
        "            for agent in env.agent_iter():\n",
        "                observation, reward, termination, truncation, info = env.last()\n",
        "                agent_team = agent.split(\"_\")[0]\n",
        "\n",
        "                n_kill[agent_team] += (\n",
        "                    reward > 4.5\n",
        "                )  # This assumes default reward settups\n",
        "                if agent_team == \"red\":\n",
        "                    red_reward += reward\n",
        "                else:\n",
        "                    blue_reward += reward\n",
        "\n",
        "                if termination or truncation:\n",
        "                    action = None  # this agent has died\n",
        "                else:\n",
        "                    if agent_team == \"red\":\n",
        "                        action = red_policy(env, agent, observation)\n",
        "                    else:\n",
        "                        action = blue_policy(env, agent, observation)\n",
        "\n",
        "                env.step(action)\n",
        "\n",
        "            who_wins = \"red\" if n_kill[\"red\"] >= n_kill[\"blue\"] + 5 else \"draw\"\n",
        "            who_wins = \"blue\" if n_kill[\"red\"] + 5 <= n_kill[\"blue\"] else who_wins\n",
        "            red_win.append(who_wins == \"red\")\n",
        "            blue_win.append(who_wins == \"blue\")\n",
        "\n",
        "            red_tot_rw.append(red_reward / n_agent_each_team)\n",
        "            blue_tot_rw.append(blue_reward / n_agent_each_team)\n",
        "\n",
        "        return {\n",
        "            \"winrate_red\": np.mean(red_win),\n",
        "            \"winrate_blue\": np.mean(blue_win),\n",
        "            \"average_rewards_red\": np.mean(red_tot_rw),\n",
        "            \"average_rewards_blue\": np.mean(blue_tot_rw),\n",
        "        }\n",
        "\n",
        "    print(\"=\" * 20)\n",
        "    print(\"Eval with random policy\")\n",
        "    print(\n",
        "        run_eval(\n",
        "            env=env, red_policy=random_policy, blue_policy=my_model_pretrain_policy, n_episode=30\n",
        "        )\n",
        "    )\n",
        "    print(\"=\" * 20)\n",
        "\n",
        "    print(\"Eval with trained policy\")\n",
        "    print(\n",
        "        run_eval(\n",
        "            env=env, red_policy=pretrain_policy, blue_policy=my_model_pretrain_policy, n_episode=30\n",
        "        )\n",
        "    )\n",
        "    print(\"=\" * 20)\n",
        "\n",
        "\n",
        "if __name__ == \"__main__\":\n",
        "    eval()"
      ],
      "metadata": {
        "colab": {
          "base_uri": "https://localhost:8080/"
        },
        "id": "R1jvce-XN8d0",
        "outputId": "609f00db-478a-4c04-9657-8894de181384"
      },
      "execution_count": 7,
      "outputs": [
        {
          "output_type": "stream",
          "name": "stderr",
          "text": [
            "<ipython-input-7-ee28324e701b>:23: FutureWarning: You are using `torch.load` with `weights_only=False` (the current default value), which uses the default pickle module implicitly. It is possible to construct malicious pickle data which will execute arbitrary code during unpickling (See https://github.com/pytorch/pytorch/blob/main/SECURITY.md#untrusted-models for more details). In a future release, the default value for `weights_only` will be flipped to `True`. This limits the functions that could be executed during unpickling. Arbitrary objects will no longer be allowed to be loaded via this mode unless they are explicitly allowlisted by the user via `torch.serialization.add_safe_globals`. We recommend you start setting `weights_only=True` for any use case where you don't have full control of the loaded file. Please open an issue on GitHub for any issues related to this experimental feature.\n",
            "  blue_q_network.load_state_dict(torch.load(\"blue_agent_dueling_ddqn_per_best.pth\", map_location=device))\n"
          ]
        },
        {
          "output_type": "stream",
          "name": "stdout",
          "text": [
            "====================\n",
            "Eval with random policy\n"
          ]
        },
        {
          "output_type": "stream",
          "name": "stderr",
          "text": [
            "100%|██████████| 30/30 [02:45<00:00,  5.51s/it]\n"
          ]
        },
        {
          "output_type": "stream",
          "name": "stdout",
          "text": [
            "{'winrate_red': 0.0, 'winrate_blue': 1.0, 'average_rewards_red': -2.2230926709843666, 'average_rewards_blue': 4.429499981608702}\n",
            "====================\n",
            "Eval with trained policy\n"
          ]
        },
        {
          "output_type": "stream",
          "name": "stderr",
          "text": [
            "100%|██████████| 30/30 [01:42<00:00,  3.41s/it]"
          ]
        },
        {
          "output_type": "stream",
          "name": "stdout",
          "text": [
            "{'winrate_red': 0.0, 'winrate_blue': 1.0, 'average_rewards_red': 0.9988353812085933, 'average_rewards_blue': 4.834024665303866}\n",
            "====================\n"
          ]
        },
        {
          "output_type": "stream",
          "name": "stderr",
          "text": [
            "\n"
          ]
        }
      ]
    }
  ]
}