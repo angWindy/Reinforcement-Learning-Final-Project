{
 "cells": [
  {
   "cell_type": "code",
   "execution_count": null,
   "metadata": {},
   "outputs": [],
   "source": [
    "from magent2.environments import battle_v4\n",
    "import os\n",
    "import cv2\n",
    "import torch\n",
    "# Load both pretrained models\n",
    "from torch_model import QNetwork as RedQNetwork\n",
    "from torch_model_modified import QNetwork as BlueQNetwork"
   ]
  },
  {
   "cell_type": "code",
   "execution_count": null,
   "metadata": {},
   "outputs": [],
   "source": [
    "# Initialize environment and video settings\n",
    "env = battle_v4.env(map_size=45, render_mode=\"rgb_array\")\n",
    "vid_dir = \"video\"\n",
    "os.makedirs(vid_dir, exist_ok=True)\n",
    "fps = 35\n",
    "\n",
    "red_network = RedQNetwork(\n",
    "    env.observation_space(\"red_0\").shape, \n",
    "    env.action_space(\"red_0\").n\n",
    ")\n",
    "blue_network = BlueQNetwork(\n",
    "    env.observation_space(\"blue_0\").shape, \n",
    "    env.action_space(\"blue_0\").n\n",
    ")"
   ]
  },
  {
   "cell_type": "code",
   "execution_count": null,
   "metadata": {},
   "outputs": [
    {
     "data": {
      "text/plain": [
       "<All keys matched successfully>"
      ]
     },
     "execution_count": 7,
     "metadata": {},
     "output_type": "execute_result"
    }
   ],
   "source": [
    "# Load model weights\n",
    "red_network.load_state_dict(\n",
    "    torch.load(\"red.pt\", weights_only=True, map_location=\"cpu\")\n",
    ")\n",
    "blue_network.load_state_dict(\n",
    "    torch.load(\"blue.pth\", weights_only=True, map_location=\"cpu\")\n",
    ")"
   ]
  },
  {
   "cell_type": "code",
   "execution_count": 8,
   "metadata": {},
   "outputs": [
    {
     "name": "stdout",
     "output_type": "stream",
     "text": [
      "Done recording battle between pretrained agents\n"
     ]
    }
   ],
   "source": [
    "# Battle simulation\n",
    "frames = []\n",
    "env.reset()\n",
    "\n",
    "for agent in env.agent_iter():\n",
    "    observation, reward, termination, truncation, info = env.last()\n",
    "\n",
    "    if termination or truncation:\n",
    "        action = None  # agent has died\n",
    "    else:\n",
    "        agent_handle = agent.split(\"_\")[0]\n",
    "        observation = torch.Tensor(observation).float().permute([2, 0, 1]).unsqueeze(0)\n",
    "        \n",
    "        with torch.no_grad():\n",
    "            if agent_handle == \"red\":\n",
    "                q_values = red_network(observation)\n",
    "                action = torch.argmax(q_values, dim=1).numpy()[0]\n",
    "            else:  # blue team\n",
    "                q_values = blue_network(observation)\n",
    "                action = torch.argmax(q_values, dim=1).numpy()[0]\n",
    "\n",
    "    env.step(action)\n",
    "\n",
    "    if agent == \"red_0\":  # Record frames from red_0's perspective\n",
    "        frames.append(env.render())\n",
    "\n",
    "# Save video\n",
    "height, width, _ = frames[0].shape\n",
    "out = cv2.VideoWriter(\n",
    "    os.path.join(vid_dir, \"red_vs_blue_battle.mp4\"),\n",
    "    cv2.VideoWriter_fourcc(*\"mp4v\"),\n",
    "    fps,\n",
    "    (width, height),\n",
    ")\n",
    "\n",
    "for frame in frames:\n",
    "    frame_bgr = cv2.cvtColor(frame, cv2.COLOR_RGB2BGR)\n",
    "    out.write(frame_bgr)\n",
    "out.release()\n",
    "print(\"Done recording battle between pretrained agents\")\n",
    "\n",
    "env.close()"
   ]
  }
 ],
 "metadata": {
  "kernelspec": {
   "display_name": "Python 3",
   "language": "python",
   "name": "python3"
  },
  "language_info": {
   "codemirror_mode": {
    "name": "ipython",
    "version": 3
   },
   "file_extension": ".py",
   "mimetype": "text/x-python",
   "name": "python",
   "nbconvert_exporter": "python",
   "pygments_lexer": "ipython3",
   "version": "3.10.10"
  }
 },
 "nbformat": 4,
 "nbformat_minor": 2
}
